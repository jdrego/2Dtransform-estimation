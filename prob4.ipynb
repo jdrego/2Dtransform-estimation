{
 "cells": [
  {
   "cell_type": "code",
   "execution_count": 246,
   "metadata": {},
   "outputs": [],
   "source": [
    "######################################################\n",
    "#Assignment 2\n",
    "#File: prob4.py\n",
    "#Author: Joshua D. Rego\n",
    "#Description: 2D Transformations on Images\n",
    "######################################################"
   ]
  },
  {
   "cell_type": "code",
   "execution_count": 247,
   "metadata": {},
   "outputs": [],
   "source": [
    "import numpy as np\n",
    "import cv2\n",
    "import matplotlib.pyplot as plt\n",
    "from PIL import Image, ImageDraw\n",
    "from scipy import signal\n",
    "from scipy.spatial import distance\n",
    "import math"
   ]
  },
  {
   "cell_type": "code",
   "execution_count": 248,
   "metadata": {},
   "outputs": [],
   "source": [
    "# Utility function for plotting multiple subplots\n",
    "def plot(imgs, cmap='gray', subplot_size=(1,1), figsize=(10,10), title=[None]):\n",
    "    rows, columns = subplot_size #[0], img_array_size[1]\n",
    "    plt.figure(figsize=figsize)\n",
    "    for i in range(rows*columns):\n",
    "        plt.subplot(rows, columns, i+1)\n",
    "        plt.imshow(imgs[i], cmap=cmap)\n",
    "        plt.title(title[i])\n",
    "    plt.show()"
   ]
  },
  {
   "cell_type": "code",
   "execution_count": 249,
   "metadata": {},
   "outputs": [],
   "source": [
    "debug = 0"
   ]
  },
  {
   "cell_type": "code",
   "execution_count": 250,
   "metadata": {},
   "outputs": [],
   "source": [
    "##########################################################################\n",
    "\n",
    "########## Section 4.1 - Construct white irregular quadilateral ##########\n",
    "######################## and perform translation and rotation ############"
   ]
  },
  {
   "cell_type": "code",
   "execution_count": 251,
   "metadata": {},
   "outputs": [],
   "source": [
    "def createQuadilateral(img_size, points): \n",
    "    # Create new Image of size 300x300\n",
    "    img = Image.new('L', (h,w), 0)\n",
    "    # Draw Irregular Quadilateral using corner points\n",
    "    ImageDraw.Draw(img).polygon(points, outline=1, fill=1)\n",
    "    # Convert image to numpy array\n",
    "    img = np.array(img)\n",
    "    return img"
   ]
  },
  {
   "cell_type": "code",
   "execution_count": 252,
   "metadata": {},
   "outputs": [],
   "source": [
    "def translateImage(img, tx, ty):\n",
    "    # Determine Translation matrix\n",
    "    M_trans = np.float32([[1, 0, tx],\n",
    "                          [0, 1, ty]])\n",
    "    # Translate image with OpenCV cv2.warpAffine\n",
    "    img_translate = cv2.warpAffine(img, M_trans, img.shape[0:2])\n",
    "\n",
    "    if debug == 1:\n",
    "        print('Translation Matrix:')\n",
    "        print(M_trans)\n",
    "    return img_translate"
   ]
  },
  {
   "cell_type": "code",
   "execution_count": 253,
   "metadata": {},
   "outputs": [],
   "source": [
    "def rotateImage(img, theta, center, translation=[None]):    \n",
    "    c_w, c_h = center\n",
    "    # Rotate by 45 degrees\n",
    "    theta = np.radians(theta)\n",
    "    \n",
    "    # Get Rotation matrix to apply on translated image\n",
    "    M_rot = cv2.getRotationMatrix2D((c_w,c_h), theta, 1) \n",
    "    # Or Manually determine Rotation matrix to apply on translated image\n",
    "    if translation == [None]:\n",
    "        M_rot = np.float32([[ np.cos(theta), np.sin(theta), -c_w*np.cos(theta) - c_h*np.sin(theta) + c_w],\n",
    "                            [-np.sin(theta), np.cos(theta),  c_w*np.sin(theta) - c_h*np.cos(theta) + c_w]])    \n",
    "    # Or Manually determine Translation+Rotation matrix to apply on original image\n",
    "    else:\n",
    "        M_RT = np.float32([[ np.cos(theta), np.sin(theta),  tx*np.cos(theta) + ty*np.sin(theta) - c_w*np.cos(theta) - c_h*np.sin(theta) + c_h],\n",
    "                           [-np.sin(theta), np.cos(theta), -tx*np.sin(theta) + ty*np.cos(theta) + c_w*np.sin(theta) - c_h*np.cos(theta) + c_h]])\n",
    "    # Rotate image using OpenCV cv2.warpimage\n",
    "    img_rotate = cv2.warpAffine(img, M_rot, img.shape[0:2])\n",
    "    if debug == 1:\n",
    "        print('Translation Matrix:')\n",
    "        print(M_trans)\n",
    "    return img_rotate"
   ]
  },
  {
   "cell_type": "code",
   "execution_count": 254,
   "metadata": {},
   "outputs": [],
   "source": [
    "# Determine image size and center\n",
    "h, w = (300,300)\n",
    "c_h, c_w = h/2, w/2\n",
    "# Determine corner points of irregular quadilateral\n",
    "p1 = (c_w-50,c_h-50)\n",
    "p2 = (c_w-20,c_h+20)\n",
    "p3 = (c_w+30,c_h+25)\n",
    "p4 = (c_w+40,c_h-25)\n",
    "\n",
    "img = createQuadilateral((h,w), [p1,p2,p3,p4])\n",
    "\n",
    "tx = 100; ty = 30\n",
    "im_translate = translateImage(img, tx, ty)\n",
    "\n",
    "theta = 45\n",
    "im_rotate = rotateImage(im_translate, theta, (c_w, c_h))"
   ]
  },
  {
   "cell_type": "code",
   "execution_count": 255,
   "metadata": {},
   "outputs": [
    {
     "data": {
      "image/png": "[encoded data removed]",
      "text/plain": [
       "<Figure size 1440x1440 with 3 Axes>"
      ]
     },
     "metadata": {
      "needs_background": "light"
     },
     "output_type": "display_data"
    }
   ],
   "source": [
    "# Plot original, translated and rotated images\n",
    "plot([img, im_translate, im_rotate], cmap='gray', subplot_size=(1,3), figsize=(20,20),\n",
    "     title=['Original Irregular Quadilateral Image',\n",
    "            'Image translated by (100, 30)',\n",
    "            'Image Rotated by 45 degrees'])"
   ]
  },
  {
   "cell_type": "code",
   "execution_count": 256,
   "metadata": {},
   "outputs": [],
   "source": [
    "##################################################################################\n",
    "\n",
    "########## Section 4.2 - Come up with a feature detector and descriptor ##########\n",
    "######################## to accurately match the four corners of #################\n",
    "######################## the quadrilateral in the two pictures ###################"
   ]
  },
  {
   "cell_type": "markdown",
   "metadata": {},
   "source": [
    "# Harris Corner Recipe\n",
    "\n",
    "1. Compute image gradients over small region\n",
    "\n",
    "2. Subtract mean from each image gradient\n",
    "\n",
    "3. Compute the covariance matrix\n",
    "\n",
    "4. Compute eigenvectors and eigenvalues\n",
    "\n",
    "5. Use threshold on eigenvalues to detect corners"
   ]
  },
  {
   "cell_type": "code",
   "execution_count": 257,
   "metadata": {},
   "outputs": [],
   "source": [
    "# Define function to find angles of corners using Euclidean distances\n",
    "def findAngles(points):\n",
    "    # Find Euclidean distances between all points\n",
    "    euclidean_dist = distance.cdist(points, points, 'euclidean')\n",
    "    if debug == 1:\n",
    "        print('Euclidean Distances between Corner Points')\n",
    "        print(euclidean_dist)\n",
    "        \n",
    "    # Initialize array for angles    \n",
    "    angles = np.empty((0,1), dtype='float32')\n",
    "    # For current corner\n",
    "    for i in range(points.shape[0]):\n",
    "        # Reset max angle\n",
    "        angle = 0\n",
    "        # Find index in Euclidean matrix for all other corners\n",
    "        corners = np.nonzero(euclidean_dist[i,:])\n",
    "        \n",
    "        # For combinations of 2 other corner points\n",
    "        for j in range(points.shape[0]-1):\n",
    "            # Order for other 2 point combinations - [1,2], [1,3], [2,3]\n",
    "            if j == points.shape[0] - 2:\n",
    "                k = 1\n",
    "                m = j\n",
    "            else:\n",
    "                k = 0\n",
    "                m = j+1\n",
    "            \n",
    "            # Find line 1 between current corner and other corner 1 \n",
    "            l1 = euclidean_dist[i,corners[0][k]]\n",
    "            # Find line 2 between current corner and other corner 2 \n",
    "            l2 = euclidean_dist[i,corners[0][m]]\n",
    "            # Find line 3 between other corner 1 and other corner 2 \n",
    "            l3 = euclidean_dist[corners[0][k], corners[0][m]]\n",
    "            # Use Law of Cosines to find angle of current corner\n",
    "            tmp_angle = np.arccos((l3**2 - l1**2 - l2**2) / (-2 * l1 * l2))\n",
    "            \n",
    "            # Use largest angle for current corner from combinations of other corners \n",
    "            if tmp_angle > angle:\n",
    "                angle = tmp_angle\n",
    "                \n",
    "            if debug == 1:\n",
    "                print(i, j, 'Corners:', corners)\n",
    "                print('Point1', corners[0][k], 'Point2', corners[0][m],'Dist 1:', l1, 'Dist2:', l2, 'Angle:', tmp_angle)\n",
    "        \n",
    "        # Add final angle for current corner to final angle array\n",
    "        angles = np.concatenate((angles,[[angle]]), axis=0)\n",
    "    return angles"
   ]
  },
  {
   "cell_type": "code",
   "execution_count": 258,
   "metadata": {},
   "outputs": [],
   "source": [
    "def findCornerCoordinates(img_copy):\n",
    "    # Initialize Matrix for max values at each corner to assign single point\n",
    "    corners = np.empty((0,2), dtype = 'uint16')\n",
    "    # For each corner:\n",
    "    for i in range(4):\n",
    "        # Find the max pixel value coordinate in the entire image\n",
    "        max_ind = np.unravel_index(np.argmax(img_copy, axis=None), img_copy.shape)\n",
    "        # Store coordinate in corners matrix\n",
    "        corners = np.concatenate((corners, [[max_ind[0], max_ind[1]]]), axis=0)\n",
    "        # Assign intensities for that cluster (pixels around current max) to 0 \n",
    "        img_copy[max_ind[0]-5:max_ind[0]+5, max_ind[1]-5:max_ind[1]+5] = 0\n",
    "        # Repeat for new max pixel intensity coordinate\n",
    "    return corners"
   ]
  },
  {
   "cell_type": "code",
   "execution_count": 259,
   "metadata": {},
   "outputs": [],
   "source": [
    "# Define function to find detect corners and assign descriptors to each point\n",
    "def cornerDetector(img, threshold):\n",
    "    # Determine convolution kernels for x and y direction\n",
    "    kern_x = np.array([[-1, 0, 1], [-2, 0, 2], [-1, 0, 1]])\n",
    "    kern_y = np.array([[1, 2, 1], [0, 0, 0], [-1, -2, -1]])\n",
    "    \n",
    "    # Convolve to get x and y image gradients\n",
    "    I_x = signal.convolve2d(img, kern_x, mode='same')\n",
    "    I_y = signal.convolve2d(img, kern_y, mode='same')\n",
    "    \n",
    "    # Calculate Ix^2, Iy^2, and Ixy\n",
    "    I_xx = I_x**2\n",
    "    I_yy = I_y**2\n",
    "    I_xy = I_x * I_y\n",
    "    \n",
    "    k = 0.05\n",
    "    # If section size = 3x3, offset = 3/2 = 1\n",
    "    offset = 1\n",
    "    # Initialize matrix for response at each coordinate\n",
    "    h_r = np.empty((0,3), dtype='uint16')\n",
    "    \n",
    "    for y in range(offset, h - offset):\n",
    "        for x in range(offset, w - offset):\n",
    "            # Find sum of Ix^2, Iy^2, and Ixy at each sectionin each image \n",
    "            S_xx = np.sum(I_xx[y - offset:y + 1 + offset, x - offset:x + 1 + offset])\n",
    "            S_yy = np.sum(I_yy[y - offset:y + 1 + offset, x - offset:x + 1 + offset])\n",
    "            S_xy = np.sum(I_xy[y - offset:y + 1 + offset, x - offset:x + 1 + offset])\n",
    "            \n",
    "            # Calculate determinant\n",
    "            det = (S_xx * S_yy) - (S_xy**2)\n",
    "            # Calculate Trace\n",
    "            trace = S_xx + S_yy\n",
    "            # Calculate Response\n",
    "            r = det - k * (trace**2)\n",
    "            # Combine with current image coordinate\n",
    "            resp = [[x, y, r]]\n",
    "            # Add to response matrix\n",
    "            h_r = np.concatenate((h_r, resp), axis=0)\n",
    "            \n",
    "            if debug == 1 and x < 5 and y < 2:\n",
    "                print('Harris Response Check:')\n",
    "                print(h_r)\n",
    "                print('')    \n",
    "    #Initialize matrix to view corners\n",
    "    img_copy = np.zeros((h,w))\n",
    "    img_corners = np.zeros((h,w))\n",
    "    \n",
    "    # For response in response matrix\n",
    "    for i in range(h_r.shape[0]):\n",
    "        x, y, r = h_r[i,0].astype('uint16'), h_r[i,1].astype('uint16'), h_r[i,2]\n",
    "        # If response is larger than threshold, it is probably a corner\n",
    "        if r > threshold:\n",
    "            img_corners[y,x] = 1\n",
    "            img_copy[y,x] = r / np.amax(h_r[:,2])\n",
    "            \n",
    "        if debug == 1 and i < 10:\n",
    "            print('X, Y, Response Check:')\n",
    "            print(x, y, r)\n",
    "    \n",
    "    # Find single coordinate for each corner\n",
    "    corners = findCornerCoordinates(img_copy)\n",
    "    # Find angles for each corner    \n",
    "    angles = findAngles(corners)\n",
    "    \n",
    "    if debug == 1:\n",
    "        print(corners, angles)\n",
    "        print(angles)\n",
    "        \n",
    "    # Add angle to each image corner coordinate\n",
    "    corner_descript = np.concatenate((corners, angles), axis=1)\n",
    "    print('Corner Points and Angle Descriptor')\n",
    "    print(corner_descript)\n",
    "    \n",
    "    if debug == 1:\n",
    "        # Plot Gradients, Image, and Corners\n",
    "        plot([I_x, I_y, I_xx, I_yy, img, img_corners], cmap='gray', subplot_size=(3,2), figsize=(20,20),\n",
    "             title=['Image Gradient Ix',\n",
    "                    'Image Gradient Iy',\n",
    "                    'Image Gradient Ixx',\n",
    "                    'Image Gradient Iyy',\n",
    "                    'Image',\n",
    "                    'Image Corners'])\n",
    "    else:\n",
    "        # Plot original, translated and rotated images\n",
    "        plot([img, img_corners], cmap='gray', subplot_size=(1,2), figsize=(20,20),\n",
    "             title=['Image',\n",
    "                    'Image Corners',])\n",
    "        \n",
    "    return corner_descript"
   ]
  },
  {
   "cell_type": "code",
   "execution_count": 260,
   "metadata": {},
   "outputs": [],
   "source": [
    "def matchFeatures(corners1, corners2):\n",
    "    # Initialize location arrays for sorted image 1 and 2 matches\n",
    "    loc1 = np.zeros((corners1.shape[0], 2))\n",
    "    loc2 = np.zeros((corners1.shape[0], 2))\n",
    "    # For each corner in image 1\n",
    "    for i in range(corners1.shape[0]):\n",
    "        # Initialize high initial angle error\n",
    "        angle_error = 10\n",
    "        # Compare to each corner in image 2\n",
    "        for j in range(corners2.shape[0]):\n",
    "            # Find error between descriptors (angle) of the two features\n",
    "            tmp_error = np.abs(corners1[i,2] - corners2[j,2])\n",
    "            # If error is less than previous error\n",
    "            if tmp_error < angle_error:\n",
    "                # Current coordinates match \n",
    "                angle_error = tmp_error\n",
    "                # Assign current corner coordinates for image 1\n",
    "                loc1[i,:] = corners1[i, 0:2]\n",
    "                # Assign current corner coordinates for image 2\n",
    "                loc2[i,:] = corners2[j, 0:2]\n",
    "    if debug == 1:\n",
    "        print('Corner Location Matches Check:')\n",
    "        for j in range(loc1.shape[0]): print(loc1[j,:], loc2[j,:])\n",
    "    return loc1, loc2"
   ]
  },
  {
   "cell_type": "code",
   "execution_count": 261,
   "metadata": {},
   "outputs": [],
   "source": [
    "def drawMatches(img1, img2, matches, inliers = None):\n",
    "    # Create a new output image that concatenates the two images together\n",
    "    rows1 = img1.shape[0]\n",
    "    cols1 = img1.shape[1]\n",
    "    rows2 = img2.shape[0]\n",
    "    cols2 = img2.shape[1]\n",
    "    img1 = img1.astype('uint8') * 255\n",
    "    img2 = img2.astype('uint8') * 255\n",
    "    out = np.zeros((max([rows1,rows2]),cols1+cols2,3), dtype='uint8')\n",
    "\n",
    "    # Place the first image to the left\n",
    "    out[:rows1,:cols1,:] = np.dstack([img1, img1, img1])\n",
    "\n",
    "    # Place the next image to the right of it\n",
    "    out[:rows2,cols1:cols1+cols2,:] = np.dstack([img2, img2, img2])\n",
    "\n",
    "    # draw circles, then connect a line between them\n",
    "    for i in range(matches.shape[0]):\n",
    "        \n",
    "        (y1,x1) = matches[i,0:2]\n",
    "        (y2,x2) = matches[i,2:4]\n",
    "        \n",
    "        # Draw circle at both co-ordinates\n",
    "        cv2.circle(out, (int(x1),int(y1)), 4, (255, 0, 0), 1)\n",
    "        cv2.circle(out, (int(x2)+cols1,int(y2)), 4, (255, 0, 0), 1)\n",
    "\n",
    "        # Draw line between the two points\n",
    "        if inliers is not None and inlier:\n",
    "            cv2.line(out, (int(x1),int(y1)), (int(x2)+cols1,int(y2)), (0, 255, 0), 1)\n",
    "        elif inliers is not None:\n",
    "            cv2.line(out, (int(x1),int(y1)), (int(x2)+cols1,int(y2)), (0, 0, 255), 1)\n",
    "\n",
    "        if inliers is None:\n",
    "            cv2.line(out, (int(x1),int(y1)), (int(x2)+cols1,int(y2)), (255, 0, 0), 1)\n",
    "\n",
    "    return out"
   ]
  },
  {
   "cell_type": "code",
   "execution_count": 262,
   "metadata": {},
   "outputs": [
    {
     "name": "stdout",
     "output_type": "stream",
     "text": [
      "Corner Points and Angle Descriptor\n",
      "[[174.         180.           1.69228345]\n",
      " [125.         190.           1.63287685]\n",
      " [101.         101.           0.90952434]\n",
      " [170.         130.           2.04850067]]\n"
     ]
    },
    {
     "data": {
      "image/png": "[encoded data removed]",
      "text/plain": [
       "<Figure size 1440x1440 with 2 Axes>"
      ]
     },
     "metadata": {
      "needs_background": "light"
     },
     "output_type": "display_data"
    }
   ],
   "source": [
    "# Detect features and discription for original image corners\n",
    "corners_original = cornerDetector(img, 600)"
   ]
  },
  {
   "cell_type": "code",
   "execution_count": 263,
   "metadata": {},
   "outputs": [
    {
     "name": "stdout",
     "output_type": "stream",
     "text": [
      "Corner Points and Angle Descriptor\n",
      "[[204.         280.           1.69228345]\n",
      " [155.         290.           1.63287685]\n",
      " [131.         201.           0.90952434]\n",
      " [200.         230.           2.04850067]]\n"
     ]
    },
    {
     "data": {
      "image/png": "[encoded data removed]",
      "text/plain": [
       "<Figure size 1440x1440 with 2 Axes>"
      ]
     },
     "metadata": {
      "needs_background": "light"
     },
     "output_type": "display_data"
    }
   ],
   "source": [
    "# Detect features and discription for translated image corners\n",
    "corners_shifted = cornerDetector(im_translate, 600)"
   ]
  },
  {
   "cell_type": "code",
   "execution_count": 264,
   "metadata": {},
   "outputs": [
    {
     "name": "stdout",
     "output_type": "stream",
     "text": [
      "Corner Points and Angle Descriptor\n",
      "[[ 97.         280.           1.69935172]\n",
      " [ 55.         253.           1.6256508 ]\n",
      " [101.         172.           0.89698938]\n",
      " [129.         242.           2.06119341]]\n"
     ]
    },
    {
     "data": {
      "image/png": "[encoded data removed]",
      "text/plain": [
       "<Figure size 1440x1440 with 2 Axes>"
      ]
     },
     "metadata": {
      "needs_background": "light"
     },
     "output_type": "display_data"
    }
   ],
   "source": [
    "# Detect features and discription for rotated image corners\n",
    "corners_rotate = cornerDetector(im_rotate, 600)"
   ]
  },
  {
   "cell_type": "code",
   "execution_count": 265,
   "metadata": {},
   "outputs": [
    {
     "name": "stdout",
     "output_type": "stream",
     "text": [
      "Corner Location Matches:\n",
      "[[174. 180.  97. 280.]\n",
      " [125. 190.  55. 253.]\n",
      " [101. 101. 101. 172.]\n",
      " [170. 130. 129. 242.]]\n"
     ]
    }
   ],
   "source": [
    "# Match features between original and rotated image and get back matched coordinates\n",
    "loc1, loc2 = matchFeatures(corners_original, corners_rotate)\n",
    "# Single matrix for matched points\n",
    "match_points = np.concatenate((loc1,loc2), axis=1)\n",
    "print('Corner Location Matches:')\n",
    "print(match_points)"
   ]
  },
  {
   "cell_type": "code",
   "execution_count": 266,
   "metadata": {},
   "outputs": [
    {
     "data": {
      "image/png": "[encoded data removed]",
      "text/plain": [
       "<Figure size 720x720 with 1 Axes>"
      ]
     },
     "metadata": {
      "needs_background": "light"
     },
     "output_type": "display_data"
    }
   ],
   "source": [
    "# get Feature matching image\n",
    "matched_image = drawMatches(img, im_rotate, match_points)\n",
    "\n",
    "# Plot matches\n",
    "plot([matched_image], figsize=(10,10), title=['Corner Feature Matches'])"
   ]
  },
  {
   "cell_type": "code",
   "execution_count": 267,
   "metadata": {},
   "outputs": [],
   "source": [
    "###############################################################################\n",
    "\n",
    "########## Section 4.3 - Construct Linear Least Squares Optimization ##########\n",
    "######################## to solve for Theta, tx, ty ###########################"
   ]
  },
  {
   "cell_type": "code",
   "execution_count": 268,
   "metadata": {},
   "outputs": [],
   "source": [
    "def constructLLSMatrices(match_points, num_points):\n",
    "    loc1, loc2 = match_points[:, 0:2], match_points[:, 2:4]\n",
    "    # Initialize matrices for A and B\n",
    "    A = np.empty((0,4)); B = np.empty((0,1))\n",
    "    # Construct Matrix A and B\n",
    "    for i in range(num_points):\n",
    "        A_tmp = np.array([[loc1[i,0],  loc1[i,1], 1, 0],\n",
    "                          [loc1[i,1], -loc1[i,0], 0, 1]])\n",
    "        B_tmp = np.array([[loc2[i,0]], \n",
    "                          [loc2[i,1]]])\n",
    "        # Add to final A and B matrix \n",
    "        A = np.concatenate((A, A_tmp), axis=0)\n",
    "        B = np.concatenate((B, B_tmp), axis=0)\n",
    "\n",
    "    if debug == 0:\n",
    "        print('Matrix A'); print(A); print('')\n",
    "        print('Matrix B'); print(B); print('')\n",
    "    return A, B"
   ]
  },
  {
   "cell_type": "code",
   "execution_count": 275,
   "metadata": {},
   "outputs": [
    {
     "name": "stdout",
     "output_type": "stream",
     "text": [
      "Matrix A\n",
      "[[ 174.  180.    1.    0.]\n",
      " [ 180. -174.    0.    1.]\n",
      " [ 125.  190.    1.    0.]\n",
      " [ 190. -125.    0.    1.]]\n",
      "\n",
      "Matrix B\n",
      "[[ 97.]\n",
      " [280.]\n",
      " [ 55.]\n",
      " [253.]]\n",
      "\n"
     ]
    }
   ],
   "source": [
    "# Determine number of points to be used in Linear Least Squares\n",
    "num_points = 2\n",
    "# Construct A and B matrices for LinearLeastSquares\n",
    "A, B = constructLLSMatrices(match_points, num_points)\n",
    "\n",
    "# Solve for Parameters with Linear Least Squares Optimization\n",
    "(x, residuals, rank, s) = np.linalg.lstsq(A,B,None)"
   ]
  },
  {
   "cell_type": "code",
   "execution_count": 277,
   "metadata": {},
   "outputs": [
    {
     "name": "stdout",
     "output_type": "stream",
     "text": [
      "Paramater Values:\n",
      "[[ 0.71491403]\n",
      " [-0.69692123]\n",
      " [98.05077969]\n",
      " [30.05117953]]\n",
      "\n",
      "theta 1 (from cos(theta)) = [44.36384559]\n",
      "theta 2 (from sin(theta)) = [-44.18051293]\n",
      "\n",
      "tx = [98.05077969]\n",
      "ty = [30.05117953]\n"
     ]
    }
   ],
   "source": [
    "# Print Parameter Results from Linear Least Squares Optimization\n",
    "print('Paramater Values:'); print(x); print('')\n",
    "\n",
    "# Solve for Theta\n",
    "theta1 = np.degrees((np.arccos(x[0])))\n",
    "theta2 = np.degrees((np.arcsin(x[1])))\n",
    "\n",
    "print('theta 1 (from cos(theta)) =', theta1)\n",
    "print('theta 2 (from sin(theta)) =', theta2)\n",
    "print('')\n",
    "\n",
    "# Solve for tx, ty\n",
    "#ty = (x[1]/((x[1]**2) + x[0])) * ((((x[2] + 150*x[0] + 150*x[1] - 150)/x[1]) * x[0]) + 150*x[1] - 150*x[0] + 150 - x[3])\n",
    "ty = x[3]\n",
    "#tx = (x[2] - ty*x[0] + 150*x[0] + 150*x[1] - 150)/x[1]\n",
    "tx = x[2]\n",
    "print('tx =', tx)\n",
    "print('ty =', ty)"
   ]
  },
  {
   "cell_type": "code",
   "execution_count": null,
   "metadata": {},
   "outputs": [],
   "source": []
  }
 ],
 "metadata": {
  "kernelspec": {
   "display_name": "Python 3",
   "language": "python",
   "name": "python3"
  },
  "language_info": {
   "codemirror_mode": {
    "name": "ipython",
    "version": 3
   },
   "file_extension": ".py",
   "mimetype": "text/x-python",
   "name": "python",
   "nbconvert_exporter": "python",
   "pygments_lexer": "ipython3",
   "version": "3.7.4"
  }
 },
 "nbformat": 4,
 "nbformat_minor": 4
}
